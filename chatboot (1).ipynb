{
  "nbformat": 4,
  "nbformat_minor": 0,
  "metadata": {
    "colab": {
      "name": "chatboot.ipynb",
      "version": "0.3.2",
      "provenance": []
    },
    "kernelspec": {
      "display_name": "Python 3",
      "language": "python",
      "name": "python3"
    }
  },
  "cells": [
    {
      "metadata": {
        "id": "AEOPEG7FPNL3",
        "colab_type": "code",
        "colab": {}
      },
      "cell_type": "code",
      "source": [
        "import numpy as np\n",
        "import re\n",
        "import spacy\n",
        "from collections import defaultdict\n",
        "from sklearn.svm import SVC # Support Vector Classification model"
      ],
      "execution_count": 0,
      "outputs": []
    },
    {
      "metadata": {
        "id": "55WQA-m-TgPR",
        "colab_type": "code",
        "colab": {}
      },
      "cell_type": "code",
      "source": [
        "nlp = spacy.load('en')"
      ],
      "execution_count": 0,
      "outputs": []
    },
    {
      "metadata": {
        "id": "n4qaud4_PNL-",
        "colab_type": "code",
        "colab": {}
      },
      "cell_type": "code",
      "source": [
        "training_sentences = [\n",
        "    \"What would you like to have for dinner?\",\n",
        "    \"What do you want to eat tonight?\",\n",
        "    \"I don't know what to cook tonight.\",\n",
        "    \"Do you have any cravings?\",\n",
        "    \"Can I get you something to eat?\", \n",
        "    \"What time will you be home?\",\n",
        "    \"How much longer will you be?\",\n",
        "    \"When can we expect you to get here?\",\n",
        "    \"What's taking you so long?\",\n",
        "    \"At what hour will you be here?\"\n",
        "    \n",
        "]\n",
        "training_intents = [\n",
        "    \"dinner_preference\",\n",
        "    \"dinner_preference\",\n",
        "    \"dinner_preference\",\n",
        "    \"dinner_preference\",\n",
        "    \"dinner_preference\",\n",
        "    \"arrival_time\",\n",
        "    \"arrival_time\",\n",
        "    \"arrival_time\",\n",
        "    \"arrival_time\",\n",
        "    \"arrival_time\"   \n",
        "]\n"
      ],
      "execution_count": 0,
      "outputs": []
    },
    {
      "metadata": {
        "id": "PUvpihwSTOTZ",
        "colab_type": "code",
        "colab": {}
      },
      "cell_type": "code",
      "source": [
        "X_train = np.zeros((len(training_sentences), 384))"
      ],
      "execution_count": 0,
      "outputs": []
    },
    {
      "metadata": {
        "id": "lJ2LtwehTQQ4",
        "colab_type": "code",
        "colab": {}
      },
      "cell_type": "code",
      "source": [
        "for i, sentence in enumerate(training_sentences):\n",
        "    # Pass each each sentence to the nlp object to create a document\n",
        "    doc = nlp(sentence)\n",
        "    # Save the document's .vector attribute to the corresponding row in X\n",
        "    #print(doc.vector)\n",
        "    X_train[i, :] = doc.vector"
      ],
      "execution_count": 0,
      "outputs": []
    },
    {
      "metadata": {
        "id": "5gwtvVG-UPKl",
        "colab_type": "code",
        "colab": {
          "base_uri": "https://localhost:8080/",
          "height": 238
        },
        "outputId": "461f9e68-8b58-4935-e60a-143cdb6d3b83"
      },
      "cell_type": "code",
      "source": [
        "X_train"
      ],
      "execution_count": 57,
      "outputs": [
        {
          "output_type": "execute_result",
          "data": {
            "text/plain": [
              "array([[ 0.87003517,  0.1775593 ,  0.70067871, ...,  0.18229049,\n",
              "         0.09230729,  0.09786543],\n",
              "       [ 1.38857532,  0.2256683 ,  1.41131198, ...,  0.22816591,\n",
              "         0.22185627, -0.06780003],\n",
              "       [ 1.06230783,  0.80163789,  1.68720961, ...,  0.1258285 ,\n",
              "         0.32616436,  0.06958746],\n",
              "       ...,\n",
              "       [ 0.83050686, -0.22366418,  1.01639891, ...,  0.22558801,\n",
              "         0.13531503,  0.10088528],\n",
              "       [-0.03241307, -0.72800207, -0.07228   , ...,  0.49781197,\n",
              "         0.15586777, -0.03096471],\n",
              "       [ 0.34217316,  1.20921707,  0.33027682, ...,  0.37486586,\n",
              "        -0.00516512,  0.01674688]])"
            ]
          },
          "metadata": {
            "tags": []
          },
          "execution_count": 57
        }
      ]
    },
    {
      "metadata": {
        "id": "rd8GNyldT8CM",
        "colab_type": "code",
        "colab": {
          "base_uri": "https://localhost:8080/",
          "height": 85
        },
        "outputId": "af1b3b29-7bce-4d47-80fb-547cbb711bad"
      },
      "cell_type": "code",
      "source": [
        "clf = SVC(C=1, gamma=\"auto\", probability=True)\n",
        "\n",
        "# Fit the classifier using the training data\n",
        "clf.fit(X_train, training_intents)"
      ],
      "execution_count": 58,
      "outputs": [
        {
          "output_type": "execute_result",
          "data": {
            "text/plain": [
              "SVC(C=1, cache_size=200, class_weight=None, coef0=0.0,\n",
              "  decision_function_shape='ovr', degree=3, gamma='auto', kernel='rbf',\n",
              "  max_iter=-1, probability=True, random_state=None, shrinking=True,\n",
              "  tol=0.001, verbose=False)"
            ]
          },
          "metadata": {
            "tags": []
          },
          "execution_count": 58
        }
      ]
    },
    {
      "metadata": {
        "id": "gbYF4clUW0gt",
        "colab_type": "code",
        "colab": {}
      },
      "cell_type": "code",
      "source": [
        "def get_intent_ml(text):\n",
        "    doc = nlp(text)\n",
        "    return(clf.predict([doc.vector])[0])"
      ],
      "execution_count": 0,
      "outputs": []
    },
    {
      "metadata": {
        "id": "s3o8gogJd9jt",
        "colab_type": "code",
        "colab": {}
      },
      "cell_type": "code",
      "source": [
        "responses_ml = {\n",
        "    \"dinner_preference\":\"Pasta with salmon and red pesto please!\",\n",
        "    \"arrival_time\": \"I will be home around 6 pm.\",\n",
        "    \"default\":\"I like you too!\"\n",
        "}\n",
        "\n",
        "def respond_ml(text):\n",
        "    response = responses_ml.get(get_intent_ml(text), responses_ml[\"default\"])\n",
        "    return(output_format.format(input=text, output=response))"
      ],
      "execution_count": 0,
      "outputs": []
    },
    {
      "metadata": {
        "id": "IFJFvsz2eIeM",
        "colab_type": "code",
        "colab": {
          "base_uri": "https://localhost:8080/",
          "height": 170
        },
        "outputId": "690effe0-9cfa-4cdc-8e02-da6f13513807"
      },
      "cell_type": "code",
      "source": [
        "print(respond_ml(\"what would you like to eat tonight?\"))\n",
        "print(respond_ml(\"what time will you be home tonight?\"))\n",
        "print(respond_ml(\"l\"))"
      ],
      "execution_count": 63,
      "outputs": [
        {
          "output_type": "stream",
          "text": [
            "IN: what would you like to eat tonight?\n",
            "OUT: Pasta with salmon and red pesto please!\n",
            "__________________________________________________\n",
            "IN: what time will you be home tonight?\n",
            "OUT: I will be home around 6 pm.\n",
            "__________________________________________________\n",
            "IN: l\n",
            "OUT: I will be home around 6 pm.\n",
            "__________________________________________________\n"
          ],
          "name": "stdout"
        }
      ]
    },
    {
      "metadata": {
        "id": "-22ZyIaOepQB",
        "colab_type": "code",
        "colab": {}
      },
      "cell_type": "code",
      "source": [
        "output_format = \"IN: {input}\\nOUT: {output}\\n\" + \"_\"*50"
      ],
      "execution_count": 0,
      "outputs": []
    },
    {
      "metadata": {
        "id": "73RYyS4Messx",
        "colab_type": "code",
        "colab": {}
      },
      "cell_type": "code",
      "source": [
        ""
      ],
      "execution_count": 0,
      "outputs": []
    }
  ]
}