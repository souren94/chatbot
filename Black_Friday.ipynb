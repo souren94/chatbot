{
 "cells": [
  {
   "cell_type": "markdown",
   "metadata": {},
   "source": [
    "# Problem Statement\n",
    "A retail company “ABC Private Limited” wants to understand the customer purchase behaviour (specifically, purchase amount) against various products of different categories. They have shared purchase summary of various customers for selected high volume products from last month.\n",
    "The data set also contains customer demographics (age, gender, marital status, city_type, stay_in_current_city), product details (product_id and product category) and Total purchase_amount from last month.\n",
    "\n",
    "Now, they want to build a model to predict the purchase amount of customer against various products which will help them to create personalized offer for customers against different products.\n"
   ]
  },
  {
   "cell_type": "raw",
   "metadata": {},
   "source": [
    "Variable Definition\n",
    "User_ID\tUser ID\n",
    "Product_ID\tProduct ID\n",
    "Gender\tSex of User\n",
    "Age\tAge in bins\n",
    "Occupation\tOccupation (Masked)\n",
    "City_Category\tCategory of the City (A,B,C)\n",
    "Stay_In_Current_City_Years\tNumber of years stay in current city\n",
    "Marital_Status\tMarital Status\n",
    "Product_Category_1\tProduct Category (Masked)\n",
    "Product_Category_2\tProduct may belongs to other category also (Masked)\n",
    "Product_Category_3\tProduct may belongs to other category also (Masked)\n",
    "Purchase\tPurchase Amount (Target Variable)"
   ]
  },
  {
   "cell_type": "code",
   "execution_count": null,
   "metadata": {},
   "outputs": [],
   "source": [
    "import pandas as pd\n",
    "import numpy as np\n",
    "import matplotlib.pyplot as plt\n",
    "import seaborn as sns"
   ]
  },
  {
   "cell_type": "code",
   "execution_count": 2,
   "metadata": {},
   "outputs": [],
   "source": [
    "train = pd.read_csv('train.csv')\n",
    "test = pd.read_csv('test.csv')"
   ]
  },
  {
   "cell_type": "code",
   "execution_count": 8,
   "metadata": {},
   "outputs": [
    {
     "data": {
      "text/plain": [
       "User_ID                       False\n",
       "Product_ID                    False\n",
       "Gender                        False\n",
       "Age                           False\n",
       "Occupation                    False\n",
       "City_Category                 False\n",
       "Stay_In_Current_City_Years    False\n",
       "Marital_Status                False\n",
       "Product_Category_1            False\n",
       "Product_Category_2             True\n",
       "Product_Category_3             True\n",
       "Purchase                      False\n",
       "dtype: bool"
      ]
     },
     "execution_count": 8,
     "metadata": {},
     "output_type": "execute_result"
    }
   ],
   "source": [
    "train.isna().any()"
   ]
  },
  {
   "cell_type": "code",
   "execution_count": 9,
   "metadata": {},
   "outputs": [
    {
     "data": {
      "text/plain": [
       "array(['0-17', '55+', '26-35', '46-50', '51-55', '36-45', '18-25'],\n",
       "      dtype=object)"
      ]
     },
     "execution_count": 9,
     "metadata": {},
     "output_type": "execute_result"
    }
   ],
   "source": [
    "train['Age'].unique()"
   ]
  },
  {
   "cell_type": "code",
   "execution_count": 12,
   "metadata": {},
   "outputs": [],
   "source": [
    "pur = train.groupby(['Age','Gender']).agg({'Purchase':'sum'}).reset_index()"
   ]
  },
  {
   "cell_type": "code",
   "execution_count": 20,
   "metadata": {},
   "outputs": [
    {
     "data": {
      "text/plain": [
       "[Text(0,0.5,'Purchase Amount'), Text(0.5,0,'Age Group')]"
      ]
     },
     "execution_count": 20,
     "metadata": {},
     "output_type": "execute_result"
    },
    {
     "data": {
      "image/png": "[encoded data removed]",
      "text/plain": [
       "<Figure size 842.4x595.44 with 1 Axes>"
      ]
     },
     "metadata": {},
     "output_type": "display_data"
    }
   ],
   "source": [
    "sns.set_style('ticks')\n",
    "fig, ax = plt.subplots()\n",
    "fig.set_size_inches(11.7, 8.27)\n",
    "sns.barplot(data= pur, x = 'Age', y = 'Purchase', hue = 'Gender')\n",
    "ax.set(xlabel='Age Group', ylabel='Purchase Amount')"
   ]
  },
  {
   "cell_type": "code",
   "execution_count": 22,
   "metadata": {},
   "outputs": [
    {
     "data": {
      "text/plain": [
       "array([0, 1])"
      ]
     },
     "execution_count": 22,
     "metadata": {},
     "output_type": "execute_result"
    }
   ],
   "source": [
    "train['Marital_Status'].unique()"
   ]
  },
  {
   "cell_type": "code",
   "execution_count": 47,
   "metadata": {},
   "outputs": [
    {
     "data": {
      "text/plain": [
       "[Text(0,0.5,'Purchase Amount'), Text(0.5,0,'Marital_Status')]"
      ]
     },
     "execution_count": 47,
     "metadata": {},
     "output_type": "execute_result"
    },
    {
     "data": {
      "image/png": "[encoded data removed]",
      "text/plain": [
       "<Figure size 842.4x595.44 with 1 Axes>"
      ]
     },
     "metadata": {},
     "output_type": "display_data"
    }
   ],
   "source": [
    "sns.set_style('ticks')\n",
    "fig, ax = plt.subplots()\n",
    "fig.set_size_inches(11.7, 8.27)\n",
    "martial = train.groupby(['Age','Gender','Marital_Status']).agg({'Purchase':'sum'}).reset_index()\n",
    "sns.barplot(data= martial, x = 'Marital_Status', y = 'Purchase', hue = 'Gender', dodge=True)\n",
    "ax.set(xlabel='Marital_Status', ylabel='Purchase Amount')"
   ]
  },
  {
   "cell_type": "code",
   "execution_count": 42,
   "metadata": {},
   "outputs": [
    {
     "name": "stdout",
     "output_type": "stream",
     "text": [
      "<class 'pandas.core.frame.DataFrame'>\n",
      "RangeIndex: 550068 entries, 0 to 550067\n",
      "Data columns (total 12 columns):\n",
      "User_ID                       550068 non-null int64\n",
      "Product_ID                    550068 non-null object\n",
      "Gender                        550068 non-null object\n",
      "Age                           550068 non-null object\n",
      "Occupation                    550068 non-null int64\n",
      "City_Category                 550068 non-null object\n",
      "Stay_In_Current_City_Years    550068 non-null object\n",
      "Marital_Status                550068 non-null int64\n",
      "Product_Category_1            550068 non-null int64\n",
      "Product_Category_2            376430 non-null float64\n",
      "Product_Category_3            166821 non-null float64\n",
      "Purchase                      550068 non-null int64\n",
      "dtypes: float64(2), int64(5), object(5)\n",
      "memory usage: 50.4+ MB\n"
     ]
    }
   ],
   "source": [
    "train.info()"
   ]
  },
  {
   "cell_type": "code",
   "execution_count": 50,
   "metadata": {},
   "outputs": [
    {
     "data": {
      "text/plain": [
       "[Text(0,0.5,'Purchase Amount'), Text(0.5,0,'Occupation')]"
      ]
     },
     "execution_count": 50,
     "metadata": {},
     "output_type": "execute_result"
    },
    {
     "data": {
      "image/png": "[encoded data removed]",
      "text/plain": [
       "<Figure size 842.4x595.44 with 1 Axes>"
      ]
     },
     "metadata": {},
     "output_type": "display_data"
    }
   ],
   "source": [
    "oc = train.groupby(['Occupation','Gender','City_Category','Marital_Status']).agg({'Purchase':'sum'}).reset_index()\n",
    "sns.set_style('ticks')\n",
    "fig, ax = plt.subplots()\n",
    "fig.set_size_inches(11.7, 8.27)\n",
    "sns.barplot(data= oc, x = 'Occupation', y = 'Purchase', hue = 'City_Category')\n",
    "ax.set(xlabel='Occupation', ylabel='Purchase Amount')"
   ]
  },
  {
   "cell_type": "code",
   "execution_count": 72,
   "metadata": {},
   "outputs": [
    {
     "data": {
      "text/plain": [
       "0          NaN\n",
       "1          6.0\n",
       "2          NaN\n",
       "3         14.0\n",
       "4          NaN\n",
       "5          2.0\n",
       "6          8.0\n",
       "7         15.0\n",
       "8         16.0\n",
       "9          NaN\n",
       "10        11.0\n",
       "11         NaN\n",
       "12         NaN\n",
       "13         2.0\n",
       "14         8.0\n",
       "15         5.0\n",
       "16         3.0\n",
       "17        14.0\n",
       "18        14.0\n",
       "19         5.0\n",
       "20        14.0\n",
       "21         NaN\n",
       "22         NaN\n",
       "23         NaN\n",
       "24         8.0\n",
       "25         8.0\n",
       "26         NaN\n",
       "27        14.0\n",
       "28         8.0\n",
       "29         4.0\n",
       "          ... \n",
       "550038     NaN\n",
       "550039     NaN\n",
       "550040     NaN\n",
       "550041     NaN\n",
       "550042     NaN\n",
       "550043     NaN\n",
       "550044     NaN\n",
       "550045     NaN\n",
       "550046     NaN\n",
       "550047     NaN\n",
       "550048     NaN\n",
       "550049     NaN\n",
       "550050     NaN\n",
       "550051     NaN\n",
       "550052     NaN\n",
       "550053     NaN\n",
       "550054     NaN\n",
       "550055     NaN\n",
       "550056     NaN\n",
       "550057     NaN\n",
       "550058     NaN\n",
       "550059     NaN\n",
       "550060     NaN\n",
       "550061     NaN\n",
       "550062     NaN\n",
       "550063     NaN\n",
       "550064     NaN\n",
       "550065     NaN\n",
       "550066     NaN\n",
       "550067     NaN\n",
       "Name: Product_Category_2, Length: 550068, dtype: float64"
      ]
     },
     "execution_count": 72,
     "metadata": {},
     "output_type": "execute_result"
    }
   ],
   "source": [
    "train['Product_Category_2']"
   ]
  },
  {
   "cell_type": "code",
   "execution_count": 66,
   "metadata": {},
   "outputs": [
    {
     "data": {
      "text/plain": [
       "3631"
      ]
     },
     "execution_count": 66,
     "metadata": {},
     "output_type": "execute_result"
    }
   ],
   "source": [
    "train['Product_ID'].nunique()"
   ]
  },
  {
   "cell_type": "code",
   "execution_count": null,
   "metadata": {},
   "outputs": [],
   "source": []
  }
 ],
 "metadata": {
  "kernelspec": {
   "display_name": "Python 3",
   "language": "python",
   "name": "python3"
  },
  "language_info": {
   "codemirror_mode": {
    "name": "ipython",
    "version": 3
   },
   "file_extension": ".py",
   "mimetype": "text/x-python",
   "name": "python",
   "nbconvert_exporter": "python",
   "pygments_lexer": "ipython3",
   "version": "3.6.5"
  }
 },
 "nbformat": 4,
 "nbformat_minor": 2
}
